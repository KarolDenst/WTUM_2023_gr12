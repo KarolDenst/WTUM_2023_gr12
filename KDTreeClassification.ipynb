{
 "cells": [
  {
   "cell_type": "code",
   "execution_count": null,
   "metadata": {},
   "outputs": [],
   "source": [
    "def find_nearest(root, target, depth, K):\n",
    "    if root == None:\n",
    "        return None\n",
    "    \n",
    "    if target[depth%K] < root.point[depth % K]:\n",
    "        nextBranch = root.left\n",
    "        otherBranch = root.right\n",
    "    else:\n",
    "        nextBranch = root.right\n",
    "        otherBranch = root.left\n",
    "    \n",
    "    temp = find_nearest(nextBranch, target, depth + 1, K)\n",
    "    best = closest(target, temp, root) # to implement\n",
    "\n",
    "    radiusSquared = pow(distance(target, best.point),2)\n",
    "    dist = target[depth % K] - root.point[depth % K]\n",
    "\n",
    "    if radiusSquared >= dist*dist:\n",
    "        temp = find_nearest(otherBranch, target, depth)\n",
    "        best = closest(target, temp, best)\n",
    "    \n",
    "    return best"
   ]
  }
 ],
 "metadata": {
  "language_info": {
   "name": "python"
  },
  "orig_nbformat": 4
 },
 "nbformat": 4,
 "nbformat_minor": 2
}
