{
  "cells": [
    {
      "cell_type": "code",
      "execution_count": null,
      "metadata": {
        "id": "yYzrrfLgDCk8"
      },
      "outputs": [],
      "source": [
        "import os\n",
        "import librosa\n",
        "import pandas as pd\n",
        "import numpy as np"
      ]
    },
    {
      "cell_type": "code",
      "execution_count": null,
      "metadata": {
        "colab": {
          "base_uri": "https://localhost:8080/"
        },
        "id": "oTgz3rtUoYdX",
        "outputId": "fec194ce-def6-4aa7-afda-d01b1ab5ec8e"
      },
      "outputs": [
        {
          "name": "stdout",
          "output_type": "stream",
          "text": [
            "Drive already mounted at /content/drive; to attempt to forcibly remount, call drive.mount(\"/content/drive\", force_remount=True).\n"
          ]
        }
      ],
      "source": [
        "from google.colab import drive\n",
        "drive.mount('/content/drive')"
      ]
    },
    {
      "cell_type": "code",
      "execution_count": null,
      "metadata": {
        "id": "HYHB8ltRoaNa"
      },
      "outputs": [],
      "source": [
        "base_directory = '/content/drive/MyDrive/Colab Notebooks/'\n",
        "file_name = 'custom_features_3_s.csv'"
      ]
    },
    {
      "cell_type": "code",
      "execution_count": null,
      "metadata": {
        "id": "5kMtZ-4nnUXj"
      },
      "outputs": [],
      "source": [
        "def split_audio(y, sr, num_segments=10):\n",
        "    audio_length = len(y)\n",
        "    segment_length = audio_length // num_segments\n",
        "\n",
        "    segments = []\n",
        "\n",
        "    for i in range(num_segments):\n",
        "        start = i * segment_length\n",
        "        end = (i + 1) * segment_length\n",
        "        segments.append(y[start:end])\n",
        "\n",
        "    return segments"
      ]
    },
    {
      "cell_type": "code",
      "execution_count": null,
      "metadata": {
        "id": "Ju2lcO8lnQjy"
      },
      "outputs": [],
      "source": [
        "def extract_features(y, sr):\n",
        "    # y, sr = librosa.load(file_path)\n",
        "    \n",
        "    # Extract features using librosa\n",
        "    mfcc = librosa.feature.mfcc(y=y, sr=sr, n_mfcc=20)\n",
        "    chroma = librosa.feature.chroma_stft(y=y, sr=sr)\n",
        "    spec_contrast = librosa.feature.spectral_contrast(y=y, sr=sr)\n",
        "    tonnetz = librosa.feature.tonnetz(y=librosa.effects.harmonic(y), sr=sr)\n",
        "    spec_centroid = librosa.feature.spectral_centroid(y=y, sr=sr)\n",
        "    spec_bandwidth = librosa.feature.spectral_bandwidth(y=y, sr=sr)\n",
        "    spec_rolloff = librosa.feature.spectral_rolloff(y=y, sr=sr)\n",
        "    zero_crossing_rate = librosa.feature.zero_crossing_rate(y)\n",
        "    rms = librosa.feature.rms(y=y)\n",
        "    harmonic, percussive = librosa.effects.hpss(y)\n",
        "    tempo, _ = librosa.beat.beat_track(y=y, sr=sr)\n",
        "    \n",
        "    # Calculate mean and variance values of features\n",
        "    features = np.hstack([np.mean(mfcc, axis=1), np.var(mfcc, axis=1),\n",
        "                      np.mean(chroma), np.var(chroma),\n",
        "                      np.mean(spec_contrast), np.var(spec_contrast),\n",
        "                      np.mean(tonnetz), np.var(tonnetz),\n",
        "                      np.mean(spec_centroid), np.var(spec_centroid),\n",
        "                      np.mean(spec_bandwidth), np.var(spec_bandwidth),\n",
        "                      np.mean(spec_rolloff), np.var(spec_rolloff),\n",
        "                      np.mean(zero_crossing_rate), np.var(zero_crossing_rate),\n",
        "                      np.mean(rms), np.var(rms),\n",
        "                      np.mean(harmonic), np.var(harmonic),\n",
        "                      np.mean(percussive), np.var(percussive),\n",
        "                      tempo])\n",
        "\n",
        "    return features"
      ]
    },
    {
      "cell_type": "code",
      "execution_count": null,
      "metadata": {
        "id": "iDknZbfDnUi-"
      },
      "outputs": [],
      "source": [
        "def process_directory(input_dir, genre):\n",
        "    data = []\n",
        "    num_segments = 10\n",
        "    for file in os.listdir(input_dir):\n",
        "        try:\n",
        "          if file.endswith('.wav'):\n",
        "              file_path = os.path.join(input_dir, file)\n",
        "              y, sr = librosa.load(file_path)\n",
        "              segments = split_audio(y, sr, num_segments)\n",
        "              for i, segment in enumerate(segments):\n",
        "                  features = extract_features(segment, sr)\n",
        "                  data.append([f\"{file_name}_seg{i+1}\", genre] + list(features))\n",
        "                  # features = extract_features(file_path)\n",
        "                  # data.append([file, genre] + list(features))\n",
        "        except:\n",
        "            print('An error occured for file: ' + file.__str__())\n",
        "    return data"
      ]
    },
    {
      "cell_type": "code",
      "execution_count": null,
      "metadata": {
        "id": "dYh8qStVnWzM"
      },
      "outputs": [],
      "source": [
        "input_directories = [\"blues\",\"classical\",\"country\",\"disco\",\"hiphop\",\"jazz\",\"metal\",\"pop\",\"reggae\",\"rock\"]\n",
        "genres = input_directories\n",
        "input_directories = [os.path.join(base_directory, 'Data', 'genres_original', genre) for genre in genres]"
      ]
    },
    {
      "cell_type": "code",
      "execution_count": 13,
      "metadata": {
        "colab": {
          "base_uri": "https://localhost:8080/"
        },
        "id": "8uP6kuqTnaxE",
        "outputId": "b70b8aaf-76b2-4bdd-cd1a-6b6a3c842bd0"
      },
      "outputs": [
        {
          "metadata": {
            "tags": null
          },
          "name": "stdout",
          "output_type": "stream",
          "text": [
            "An error occured for file: blues.00011.wav\n"
          ]
        },
        {
          "output_type": "stream",
          "name": "stderr",
          "text": [
            "<ipython-input-12-da88d6ba61dc>:8: UserWarning: PySoundFile failed. Trying audioread instead.\n",
            "  y, sr = librosa.load(file_path)\n",
            "/usr/local/lib/python3.10/dist-packages/librosa/core/audio.py:184: FutureWarning: librosa.core.audio.__audioread_load\n",
            "\tDeprecated as of librosa version 0.10.0.\n",
            "\tIt will be removed in librosa version 1.0.\n",
            "  y, sr_native = __audioread_load(path, offset, duration, dtype)\n"
          ]
        },
        {
          "output_type": "stream",
          "name": "stdout",
          "text": [
            "An error occured for file: jazz.00054.wav\n"
          ]
        }
      ],
      "source": [
        "all_data = []\n",
        "for directory, genre in zip(input_directories, genres):\n",
        "    data = process_directory(directory, genre)\n",
        "    all_data.extend(data)"
      ]
    },
    {
      "cell_type": "code",
      "execution_count": 14,
      "metadata": {
        "id": "0U3PxVAVndEH"
      },
      "outputs": [],
      "source": [
        "columns = ['filename', 'label'] + [f'feature_{i}' for i in range(len(all_data[0]) - 2)]\n",
        "df = pd.DataFrame(all_data, columns=columns)"
      ]
    },
    {
      "cell_type": "code",
      "execution_count": 15,
      "metadata": {
        "id": "_-ClfySrnf-D"
      },
      "outputs": [],
      "source": [
        "df.to_csv(os.path.join(base_directory, 'Data', file_name), index=False)"
      ]
    },
    {
      "cell_type": "code",
      "execution_count": 16,
      "metadata": {
        "id": "hSWZoWHmGPui"
      },
      "outputs": [],
      "source": [
        "import matplotlib.pyplot as plt\n",
        "import seaborn as sns\n",
        "from sklearn.model_selection import train_test_split, GridSearchCV\n",
        "from sklearn.metrics import accuracy_score, confusion_matrix, classification_report\n",
        "from sklearn.preprocessing import StandardScaler, LabelEncoder\n",
        "from xgboost import XGBClassifier\n",
        "from sklearn.ensemble import GradientBoostingClassifier"
      ]
    },
    {
      "cell_type": "code",
      "execution_count": 17,
      "metadata": {
        "id": "3fOOE94pGSLS"
      },
      "outputs": [],
      "source": [
        "file = base_directory + 'Data/' + file_name\n",
        "df = pd.read_csv(file)"
      ]
    },
    {
      "cell_type": "code",
      "execution_count": 18,
      "metadata": {
        "id": "sVBjNewQGT_e"
      },
      "outputs": [],
      "source": [
        "y = df['label']\n",
        "unique_genres = y.unique()\n",
        "le = LabelEncoder()\n",
        "y = le.fit_transform(y)\n",
        "\n",
        "X = df.drop('label', axis=1).drop('filename', axis=1)"
      ]
    },
    {
      "cell_type": "code",
      "execution_count": 19,
      "metadata": {
        "id": "W22sSA_jGVr3"
      },
      "outputs": [],
      "source": [
        "scaler = StandardScaler()\n",
        "X = scaler.fit_transform(X)"
      ]
    },
    {
      "cell_type": "code",
      "execution_count": 20,
      "metadata": {
        "id": "inlBLOk7d_fa"
      },
      "outputs": [],
      "source": [
        "params = {\n",
        "    'learning_rate': 0.3,\n",
        "    'n_estimators': 250,\n",
        "    'max_depth': 4,\n",
        "    # 'tree_method': 'gpu_hist',\n",
        "    'gamma': 0,\n",
        "    'colsample_bytree': 1,\n",
        "    'subsample': 1,\n",
        "     'min_child_weight': 3,\n",
        "     'reg_alpha': 0,\n",
        "    'reg_lambda': 1.5,\n",
        "    'max_delta_step': 1\n",
        "}"
      ]
    },
    {
      "cell_type": "code",
      "execution_count": 21,
      "metadata": {
        "id": "0GEgUTQ1GXj4",
        "colab": {
          "base_uri": "https://localhost:8080/"
        },
        "outputId": "841a9d82-4116-41d1-8e7f-07de9e5789e2"
      },
      "outputs": [
        {
          "metadata": {
            "tags": null
          },
          "name": "stdout",
          "output_type": "stream",
          "text": [
            "Accuracy: 0.92\n"
          ]
        }
      ],
      "source": [
        "X_train, X_test, y_train, y_test = train_test_split(X, y, test_size=0.2, random_state=45)\n",
        "model = XGBClassifier(**params)\n",
        "model.fit(X_train, y_train)\n",
        "y_pred = model.predict(X_test)\n",
        "accuracy = accuracy_score(y_test, y_pred)\n",
        "print(f\"Accuracy: {accuracy:.2f}\")"
      ]
    },
    {
      "cell_type": "code",
      "execution_count": 22,
      "metadata": {
        "id": "GfvmhTJcGban",
        "colab": {
          "base_uri": "https://localhost:8080/",
          "height": 619
        },
        "outputId": "3e2f20b9-9f54-47a4-80fe-3e977108389f"
      },
      "outputs": [
        {
          "data": {
            "image/png": "[encoded data removed]",
            "text/plain": [
              "<Figure size 1000x700 with 2 Axes>"
            ]
          },
          "metadata": {},
          "output_type": "display_data"
        }
      ],
      "source": [
        "genres = model.classes_\n",
        "plt.figure(figsize=(10, 7))\n",
        "sns.heatmap(confusion_matrix(y_test, y_pred), annot=True, fmt='d', xticklabels=genres, yticklabels=genres)\n",
        "plt.xlabel(\"Predicted\")\n",
        "plt.ylabel(\"True\")\n",
        "plt.show()"
      ]
    },
    {
      "cell_type": "code",
      "execution_count": 23,
      "metadata": {
        "id": "F1yXLkT6Gc7G",
        "colab": {
          "base_uri": "https://localhost:8080/"
        },
        "outputId": "696f40de-56d0-41f3-f317-d0135d1c4a01"
      },
      "outputs": [
        {
          "metadata": {
            "tags": null
          },
          "name": "stdout",
          "output_type": "stream",
          "text": [
            "              precision    recall  f1-score   support\n",
            "\n",
            "       blues       0.94      0.91      0.92       206\n",
            "   classical       0.94      0.94      0.94       191\n",
            "     country       0.85      0.94      0.89       194\n",
            "       disco       0.94      0.94      0.94       215\n",
            "      hiphop       0.97      0.92      0.94       216\n",
            "        jazz       0.88      0.92      0.90       212\n",
            "       metal       0.97      0.96      0.96       179\n",
            "         pop       0.93      0.90      0.92       205\n",
            "      reggae       0.91      0.89      0.90       195\n",
            "        rock       0.89      0.89      0.89       185\n",
            "\n",
            "    accuracy                           0.92      1998\n",
            "   macro avg       0.92      0.92      0.92      1998\n",
            "weighted avg       0.92      0.92      0.92      1998\n",
            "\n"
          ]
        }
      ],
      "source": [
        "print(classification_report(y_test, y_pred, target_names=unique_genres))"
      ]
    },
    {
      "cell_type": "code",
      "execution_count": null,
      "metadata": {
        "id": "jX5IFJrxKpBR",
        "colab": {
          "base_uri": "https://localhost:8080/"
        },
        "outputId": "cf039a06-f0d4-4746-90fc-f7efe680a8d4"
      },
      "outputs": [
        {
          "metadata": {
            "tags": null
          },
          "name": "stdout",
          "output_type": "stream",
          "text": [
            "Fitting 5 folds for each of 1 candidates, totalling 5 fits\n"
          ]
        }
      ],
      "source": [
        "param_grid = {\n",
        "    \n",
        "}\n",
        "gbm = XGBClassifier(**params) # GradientBoostingClassifier\n",
        "grid_search = GridSearchCV(estimator=gbm, param_grid=param_grid,\n",
        "                           scoring='accuracy', cv=5, verbose=1, n_jobs=-1)\n",
        "grid_search.fit(X_train, y_train)\n",
        "\n",
        "best_params = grid_search.best_params_\n",
        "best_score = grid_search.best_score_\n",
        "print(\"Best hyperparameters:\", best_params)\n",
        "print(\"Best accuracy score:\", best_score)\n",
        "\n",
        "best_model = XGBClassifier({**best_params, **params}, random_state=42)\n",
        "best_model.fit(X_train, y_train)\n",
        "y_pred = best_model.predict(X_test)\n",
        "\n",
        "accuracy = accuracy_score(y_test, y_pred)\n",
        "print(\"Test set accuracy:\", accuracy)"
      ]
    }
  ],
  "metadata": {
    "colab": {
      "provenance": []
    },
    "gpuClass": "standard",
    "kernelspec": {
      "display_name": "Python 3",
      "name": "python3"
    },
    "language_info": {
      "name": "python"
    }
  },
  "nbformat": 4,
  "nbformat_minor": 0
}