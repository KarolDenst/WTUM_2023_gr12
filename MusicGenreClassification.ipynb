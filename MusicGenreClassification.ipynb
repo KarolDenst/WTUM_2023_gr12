{
 "cells": [
  {
   "cell_type": "code",
   "execution_count": 2,
   "metadata": {},
   "outputs": [
    {
     "ename": "ModuleNotFoundError",
     "evalue": "No module named 'librosa'",
     "output_type": "error",
     "traceback": [
      "\u001B[1;31m---------------------------------------------------------------------------\u001B[0m",
      "\u001B[1;31mModuleNotFoundError\u001B[0m                       Traceback (most recent call last)",
      "Cell \u001B[1;32mIn[2], line 1\u001B[0m\n\u001B[1;32m----> 1\u001B[0m \u001B[38;5;28;01mimport\u001B[39;00m \u001B[38;5;21;01mlibrosa\u001B[39;00m\n\u001B[0;32m      2\u001B[0m \u001B[38;5;28;01mimport\u001B[39;00m \u001B[38;5;21;01mmatplotlib\u001B[39;00m\u001B[38;5;21;01m.\u001B[39;00m\u001B[38;5;21;01mpyplot\u001B[39;00m \u001B[38;5;28;01mas\u001B[39;00m \u001B[38;5;21;01mplt\u001B[39;00m\n\u001B[0;32m      3\u001B[0m \u001B[38;5;28;01mimport\u001B[39;00m \u001B[38;5;21;01mos\u001B[39;00m\n",
      "\u001B[1;31mModuleNotFoundError\u001B[0m: No module named 'librosa'"
     ]
    }
   ],
   "source": [
    "import librosa\n",
    "import matplotlib.pyplot as plt\n",
    "import os\n",
    "import numpy as np"
   ]
  },
  {
   "cell_type": "code",
   "execution_count": 3,
   "metadata": {},
   "outputs": [
    {
     "ename": "NameError",
     "evalue": "name 'os' is not defined",
     "output_type": "error",
     "traceback": [
      "\u001B[1;31m---------------------------------------------------------------------------\u001B[0m",
      "\u001B[1;31mNameError\u001B[0m                                 Traceback (most recent call last)",
      "Cell \u001B[1;32mIn[3], line 40\u001B[0m\n\u001B[0;32m     34\u001B[0m             plt\u001B[38;5;241m.\u001B[39mtight_layout()\n\u001B[0;32m     35\u001B[0m             plt\u001B[38;5;241m.\u001B[39mshow()\n\u001B[1;32m---> 40\u001B[0m audio_files_root_dir \u001B[38;5;241m=\u001B[39m \u001B[43mos\u001B[49m\u001B[38;5;241m.\u001B[39mpath\u001B[38;5;241m.\u001B[39mjoin(\u001B[38;5;124m'\u001B[39m\u001B[38;5;124mData\u001B[39m\u001B[38;5;124m'\u001B[39m, \u001B[38;5;124m'\u001B[39m\u001B[38;5;124mgenres_original\u001B[39m\u001B[38;5;124m'\u001B[39m)\n\u001B[0;32m     41\u001B[0m spectrograms_root_dir \u001B[38;5;241m=\u001B[39m os\u001B[38;5;241m.\u001B[39mpath\u001B[38;5;241m.\u001B[39mjoin(\u001B[38;5;124m'\u001B[39m\u001B[38;5;124mData\u001B[39m\u001B[38;5;124m'\u001B[39m, \u001B[38;5;124m'\u001B[39m\u001B[38;5;124mspectrograms\u001B[39m\u001B[38;5;124m'\u001B[39m)\n\u001B[0;32m     42\u001B[0m display_spectrogram \u001B[38;5;241m=\u001B[39m \u001B[38;5;28;01mTrue\u001B[39;00m\n",
      "\u001B[1;31mNameError\u001B[0m: name 'os' is not defined"
     ]
    }
   ],
   "source": [
    "# Generates a mel scaled spectrograms for every 3 seconds part of a .wav file\n",
    "def generate_spectrograms(wav_file, output_path, display_spectrogram=False):\n",
    "    # Load the wav file using librosa\n",
    "    y, sr = librosa.load(wav_file)\n",
    "\n",
    "    # Calculate the number of samples for 3 seconds\n",
    "    samples_3s = 3 * sr\n",
    "\n",
    "    # Divide the wav file into 3-second parts\n",
    "    for i in range(0, len(y) - samples_3s + 1, samples_3s):\n",
    "        y_part = y[i:i+samples_3s]\n",
    "\n",
    "        # Generate the spectrogram\n",
    "        S = librosa.feature.melspectrogram(y=y_part, sr=sr, n_mels=128)\n",
    "        S_dB = librosa.power_to_db(S, ref=np.max)\n",
    "\n",
    "        # Save the spectrogram to the output path\n",
    "        file_name = f\"{os.path.splitext(os.path.basename(wav_file))[0]}_{i//samples_3s}.png\"\n",
    "        os.makedirs(output_path, exist_ok=True)\n",
    "        output_file = os.path.join(output_path, file_name)\n",
    "\n",
    "        # Create and save the spectrogram image\n",
    "        plt.figure()\n",
    "        librosa.display.specshow(S_dB, sr=sr, x_axis='time', y_axis='mel')\n",
    "        plt.axis('off')\n",
    "        plt.savefig(output_file, bbox_inches='tight', pad_inches=0)\n",
    "        plt.close()\n",
    "\n",
    "        # Display the spectrogram\n",
    "        if display_spectrogram:\n",
    "            plt.figure()\n",
    "            librosa.display.specshow(S_dB, sr=sr, x_axis='time', y_axis='mel')\n",
    "            plt.title('Mel-frequency spectrogram')\n",
    "            plt.tight_layout()\n",
    "            plt.show()\n",
    "\n",
    "\n",
    "\n",
    "\n",
    "audio_files_root_dir = os.path.join('Data', 'genres_original')\n",
    "spectrograms_root_dir = os.path.join('Data', 'spectrograms')\n",
    "display_spectrogram = True\n",
    "\n",
    "# loop through all wav files\n",
    "for root, _, files in os.walk(audio_files_root_dir):\n",
    "    for file in files:\n",
    "        if not file.lower().endswith('.wav'):\n",
    "            continue\n",
    "        wav_file = os.path.join(root, file)\n",
    "        genre = file.split('.')[0]\n",
    "        generate_spectrograms(wav_file, os.path.join(spectrograms_root_dir, genre), display_spectrogram)\n",
    "        display_spectrogram = False"
   ]
  },
  {
   "cell_type": "code",
   "execution_count": null,
   "outputs": [],
   "source": [],
   "metadata": {
    "collapsed": false
   }
  }
 ],
 "metadata": {
  "kernelspec": {
   "display_name": "Python 3",
   "language": "python",
   "name": "python3"
  },
  "language_info": {
   "codemirror_mode": {
    "name": "ipython",
    "version": 3
   },
   "file_extension": ".py",
   "mimetype": "text/x-python",
   "name": "python",
   "nbconvert_exporter": "python",
   "pygments_lexer": "ipython3",
   "version": "3.10.2"
  },
  "orig_nbformat": 4
 },
 "nbformat": 4,
 "nbformat_minor": 2
}
