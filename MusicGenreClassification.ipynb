{
  "cells": [
    {
      "attachments": {},
      "cell_type": "markdown",
      "metadata": {},
      "source": [
        "# Wczytanie Bibliotek"
      ]
    },
    {
      "cell_type": "code",
      "execution_count": null,
      "metadata": {
        "id": "yYzrrfLgDCk8"
      },
      "outputs": [],
      "source": [
        "import os\n",
        "import librosa\n",
        "import pandas as pd\n",
        "import numpy as np"
      ]
    },
    {
      "cell_type": "code",
      "execution_count": null,
      "metadata": {
        "colab": {
          "base_uri": "https://localhost:8080/"
        },
        "id": "oTgz3rtUoYdX",
        "outputId": "fcaa4b8d-16a3-43c9-82c1-0b8b2573e218"
      },
      "outputs": [
        {
          "name": "stdout",
          "output_type": "stream",
          "text": [
            "Mounted at /content/drive\n"
          ]
        }
      ],
      "source": [
        "from google.colab import drive\n",
        "drive.mount('/content/drive')"
      ]
    },
    {
      "cell_type": "code",
      "execution_count": null,
      "metadata": {
        "id": "HYHB8ltRoaNa"
      },
      "outputs": [],
      "source": [
        "base_directory = '/content/drive/MyDrive/Colab Notebooks/'\n",
        "file_name = 'custom_features_30_s.csv'"
      ]
    },
    {
      "attachments": {},
      "cell_type": "markdown",
      "metadata": {},
      "source": [
        "# Extracting features"
      ]
    },
    {
      "attachments": {},
      "cell_type": "markdown",
      "metadata": {},
      "source": [
        "extract_features(file_path) is used to load a .wav file and extract a number of features using the librosa library. These will later be saved in a .csv file."
      ]
    },
    {
      "cell_type": "code",
      "execution_count": null,
      "metadata": {
        "id": "Ju2lcO8lnQjy"
      },
      "outputs": [],
      "source": [
        "def extract_features(file_path):\n",
        "    y, sr = librosa.load(file_path)\n",
        "    \n",
        "    # Extract features using librosa\n",
        "    mfcc = librosa.feature.mfcc(y=y, sr=sr, n_mfcc=20)\n",
        "    chroma = librosa.feature.chroma_stft(y=y, sr=sr)\n",
        "    spec_contrast = librosa.feature.spectral_contrast(y=y, sr=sr)\n",
        "    tonnetz = librosa.feature.tonnetz(y=librosa.effects.harmonic(y), sr=sr)\n",
        "    spec_centroid = librosa.feature.spectral_centroid(y=y, sr=sr)\n",
        "    spec_bandwidth = librosa.feature.spectral_bandwidth(y=y, sr=sr)\n",
        "    spec_rolloff = librosa.feature.spectral_rolloff(y=y, sr=sr)\n",
        "    zero_crossing_rate = librosa.feature.zero_crossing_rate(y)\n",
        "    rms = librosa.feature.rms(y=y)\n",
        "    harmonic, percussive = librosa.effects.hpss(y)\n",
        "    tempo, _ = librosa.beat.beat_track(y=y, sr=sr)\n",
        "    \n",
        "    # Calculate mean and variance values of features\n",
        "    features = np.hstack([np.mean(mfcc, axis=1), np.var(mfcc, axis=1),\n",
        "                      np.mean(chroma), np.var(chroma),\n",
        "                      np.mean(spec_contrast), np.var(spec_contrast),\n",
        "                      np.mean(tonnetz), np.var(tonnetz),\n",
        "                      np.mean(spec_centroid), np.var(spec_centroid),\n",
        "                      np.mean(spec_bandwidth), np.var(spec_bandwidth),\n",
        "                      np.mean(spec_rolloff), np.var(spec_rolloff),\n",
        "                      np.mean(zero_crossing_rate), np.var(zero_crossing_rate),\n",
        "                      np.mean(rms), np.var(rms),\n",
        "                      np.mean(harmonic), np.var(harmonic),\n",
        "                      np.mean(percussive), np.var(percussive),\n",
        "                      tempo])\n",
        "\n",
        "    return features"
      ]
    },
    {
      "attachments": {},
      "cell_type": "markdown",
      "metadata": {},
      "source": [
        "process_directory(input_dir, genre) iterates over all files in input directory. It then extracts features and appends them to data array."
      ]
    },
    {
      "cell_type": "code",
      "execution_count": null,
      "metadata": {
        "id": "iDknZbfDnUi-"
      },
      "outputs": [],
      "source": [
        "def process_directory(input_dir, genre):\n",
        "    data = []\n",
        "    for file in os.listdir(input_dir):\n",
        "        try:\n",
        "          if file.endswith('.wav'):\n",
        "              file_path = os.path.join(input_dir, file)\n",
        "              features = extract_features(file_path)\n",
        "              data.append([file, genre] + list(features))\n",
        "        except:\n",
        "            print('An error occured for file: ' + file.__str__())\n",
        "    return data"
      ]
    },
    {
      "cell_type": "code",
      "execution_count": null,
      "metadata": {
        "id": "dYh8qStVnWzM"
      },
      "outputs": [],
      "source": [
        "input_directories = [\"blues\",\"classical\",\"country\",\"disco\",\"hiphop\",\"jazz\",\"metal\",\"pop\",\"reggae\",\"rock\"]\n",
        "genres = input_directories\n",
        "input_directories = [os.path.join(base_directory, 'Data', 'genres_original', genre) for genre in genres]"
      ]
    },
    {
      "attachments": {},
      "cell_type": "markdown",
      "metadata": {},
      "source": [
        "We iterate over all files in all genres and add them to all_data array."
      ]
    },
    {
      "cell_type": "code",
      "execution_count": null,
      "metadata": {
        "colab": {
          "base_uri": "https://localhost:8080/"
        },
        "id": "8uP6kuqTnaxE",
        "outputId": "3fc54d53-9396-41a5-a297-8481e4f6a47c"
      },
      "outputs": [
        {
          "name": "stdout",
          "output_type": "stream",
          "text": [
            "An error occured for file: blues.00012.wav\n",
            "An error occured for file: blues.00015.wav\n",
            "An error occured for file: blues.00005.wav\n",
            "An error occured for file: blues.00013.wav\n",
            "An error occured for file: blues.00010.wav\n"
          ]
        }
      ],
      "source": [
        "all_data = []\n",
        "for directory, genre in zip(input_directories, genres):\n",
        "    data = process_directory(directory, genre)\n",
        "    all_data.extend(data)"
      ]
    },
    {
      "attachments": {},
      "cell_type": "markdown",
      "metadata": {},
      "source": [
        "We add filename and label columns to our array and then change it to DataFrame to then save it to a csv file using to_csv(). The process of extracting data is very time consuming so saving this data to a file lets us traing the moddel without wasting time on extracting features every time."
      ]
    },
    {
      "cell_type": "code",
      "execution_count": null,
      "metadata": {
        "id": "0U3PxVAVndEH"
      },
      "outputs": [],
      "source": [
        "columns = ['filename', 'label'] + [f'feature_{i}' for i in range(len(all_data[0]) - 2)]\n",
        "df = pd.DataFrame(all_data, columns=columns)"
      ]
    },
    {
      "cell_type": "code",
      "execution_count": null,
      "metadata": {
        "id": "_-ClfySrnf-D"
      },
      "outputs": [],
      "source": [
        "df.to_csv(os.path.join(base_directory, 'Data', file_name), index=False)"
      ]
    },
    {
      "attachments": {},
      "cell_type": "markdown",
      "metadata": {},
      "source": [
        "# Training the model"
      ]
    },
    {
      "cell_type": "code",
      "execution_count": null,
      "metadata": {
        "id": "hSWZoWHmGPui"
      },
      "outputs": [],
      "source": [
        "import matplotlib.pyplot as plt\n",
        "import seaborn as sns\n",
        "from sklearn.model_selection import train_test_split, GridSearchCV\n",
        "from sklearn.metrics import accuracy_score, confusion_matrix, classification_report\n",
        "from sklearn.preprocessing import StandardScaler, LabelEncoder\n",
        "from xgboost import XGBClassifier\n",
        "from sklearn.ensemble import GradientBoostingClassifier"
      ]
    },
    {
      "attachments": {},
      "cell_type": "markdown",
      "metadata": {},
      "source": [
        "We load the data into a data frame"
      ]
    },
    {
      "cell_type": "code",
      "execution_count": null,
      "metadata": {
        "id": "3fOOE94pGSLS"
      },
      "outputs": [],
      "source": [
        "file = base_directory + 'Data/' + file_name\n",
        "df = pd.read_csv(file)"
      ]
    },
    {
      "attachments": {},
      "cell_type": "markdown",
      "metadata": {},
      "source": [
        "We extract labels from 'label' column and then remove 'label' and 'filename' columns to not train on data with a label in it."
      ]
    },
    {
      "cell_type": "code",
      "execution_count": null,
      "metadata": {
        "id": "sVBjNewQGT_e"
      },
      "outputs": [],
      "source": [
        "y = df['label']\n",
        "unique_genres = y.unique()\n",
        "le = LabelEncoder()\n",
        "y = le.fit_transform(y)\n",
        "\n",
        "X = df.drop('label', axis=1).drop('filename', axis=1)"
      ]
    },
    {
      "cell_type": "code",
      "execution_count": null,
      "metadata": {
        "id": "W22sSA_jGVr3"
      },
      "outputs": [],
      "source": [
        "scaler = StandardScaler()\n",
        "X = scaler.fit_transform(X)"
      ]
    },
    {
      "attachments": {},
      "cell_type": "markdown",
      "metadata": {},
      "source": [
        "We choose the params of our model. \n",
        "'tree_method': 'gpu_hist', can be uncommented if we want our model to run on GPU."
      ]
    },
    {
      "cell_type": "code",
      "execution_count": null,
      "metadata": {
        "id": "inlBLOk7d_fa"
      },
      "outputs": [],
      "source": [
        "params = {\n",
        "    'learning_rate': 0.3,\n",
        "    'n_estimators': 250,\n",
        "    'max_depth': 4,\n",
        "    # 'tree_method': 'gpu_hist',\n",
        "    'gamma': 0,\n",
        "    'colsample_bytree': 1,\n",
        "    'subsample': 1,\n",
        "     'min_child_weight': 3,\n",
        "     'reg_alpha': 0,\n",
        "    'reg_lambda': 1.5,\n",
        "    'max_delta_step': 1\n",
        "}"
      ]
    },
    {
      "attachments": {},
      "cell_type": "markdown",
      "metadata": {},
      "source": [
        "We train our model and check its accuracy."
      ]
    },
    {
      "cell_type": "code",
      "execution_count": null,
      "metadata": {
        "colab": {
          "base_uri": "https://localhost:8080/"
        },
        "id": "0GEgUTQ1GXj4",
        "outputId": "14d94a48-2d92-4ec3-e05e-3f3a570275df"
      },
      "outputs": [
        {
          "name": "stdout",
          "output_type": "stream",
          "text": [
            "Accuracy: 0.79\n"
          ]
        }
      ],
      "source": [
        "X_train, X_test, y_train, y_test = train_test_split(X, y, test_size=0.2, random_state=45)\n",
        "model = XGBClassifier(**params)\n",
        "model.fit(X_train, y_train)\n",
        "y_pred = model.predict(X_test)\n",
        "accuracy = accuracy_score(y_test, y_pred)\n",
        "print(f\"Accuracy: {accuracy:.2f}\")"
      ]
    },
    {
      "attachments": {},
      "cell_type": "markdown",
      "metadata": {},
      "source": [
        "We graph preddictions our model made."
      ]
    },
    {
      "cell_type": "code",
      "execution_count": null,
      "metadata": {
        "colab": {
          "base_uri": "https://localhost:8080/",
          "height": 619
        },
        "id": "GfvmhTJcGban",
        "outputId": "c9f77d00-f5d9-4640-d849-e5806f51b8b6"
      },
      "outputs": [
        {
          "data": {
            "image/png": "[encoded data removed]",
            "text/plain": [
              "<Figure size 1000x700 with 2 Axes>"
            ]
          },
          "metadata": {},
          "output_type": "display_data"
        }
      ],
      "source": [
        "genres = model.classes_\n",
        "plt.figure(figsize=(10, 7))\n",
        "sns.heatmap(confusion_matrix(y_test, y_pred), annot=True, fmt='d', xticklabels=genres, yticklabels=genres)\n",
        "plt.xlabel(\"Predicted\")\n",
        "plt.ylabel(\"True\")\n",
        "plt.show()"
      ]
    },
    {
      "cell_type": "code",
      "execution_count": null,
      "metadata": {
        "colab": {
          "base_uri": "https://localhost:8080/"
        },
        "id": "F1yXLkT6Gc7G",
        "outputId": "df58fae3-54e0-4bbb-a180-15fe9feeb5af"
      },
      "outputs": [
        {
          "name": "stdout",
          "output_type": "stream",
          "text": [
            "              precision    recall  f1-score   support\n",
            "\n",
            "       blues       0.80      0.76      0.78        21\n",
            "   classical       0.90      0.86      0.88        21\n",
            "     country       0.86      0.83      0.84        23\n",
            "       disco       0.74      0.78      0.76        18\n",
            "      hiphop       0.67      0.67      0.67        15\n",
            "        jazz       0.70      0.88      0.78        16\n",
            "       metal       0.89      0.89      0.89        27\n",
            "         pop       0.86      0.86      0.86        22\n",
            "      reggae       0.67      0.84      0.74        19\n",
            "        rock       0.73      0.44      0.55        18\n",
            "\n",
            "    accuracy                           0.79       200\n",
            "   macro avg       0.78      0.78      0.78       200\n",
            "weighted avg       0.79      0.79      0.79       200\n",
            "\n"
          ]
        }
      ],
      "source": [
        "print(classification_report(y_test, y_pred, target_names=unique_genres))"
      ]
    },
    {
      "attachments": {},
      "cell_type": "markdown",
      "metadata": {},
      "source": [
        "Here we can add parameter names to 'param_grid'. Then fit() function will then test all possible combinations of these parameters and test which ones give the best results. Then we ourput which parameters are the best and what accuracy they achieve. This cell was used to obtain the parameters our model uses."
      ]
    },
    {
      "cell_type": "code",
      "execution_count": null,
      "metadata": {
        "id": "jX5IFJrxKpBR"
      },
      "outputs": [],
      "source": [
        "param_grid = {\n",
        "    \n",
        "}\n",
        "gbm = XGBClassifier(**params) # GradientBoostingClassifier\n",
        "grid_search = GridSearchCV(estimator=gbm, param_grid=param_grid,\n",
        "                           scoring='accuracy', cv=5, verbose=1, n_jobs=-1)\n",
        "grid_search.fit(X_train, y_train)\n",
        "\n",
        "best_params = grid_search.best_params_\n",
        "best_score = grid_search.best_score_\n",
        "print(\"Best hyperparameters:\", best_params)\n",
        "print(\"Best accuracy score:\", best_score)\n",
        "\n",
        "best_model = XGBClassifier({**best_params, **params}, random_state=42)\n",
        "best_model.fit(X_train, y_train)\n",
        "y_pred = best_model.predict(X_test)\n",
        "\n",
        "accuracy = accuracy_score(y_test, y_pred)\n",
        "print(\"Test set accuracy:\", accuracy)"
      ]
    }
  ],
  "metadata": {
    "colab": {
      "provenance": []
    },
    "gpuClass": "standard",
    "kernelspec": {
      "display_name": "Python 3",
      "name": "python3"
    },
    "language_info": {
      "name": "python"
    }
  },
  "nbformat": 4,
  "nbformat_minor": 0
}
