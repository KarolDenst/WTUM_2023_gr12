{
 "cells": [
  {
   "cell_type": "code",
   "execution_count": 5,
   "metadata": {},
   "outputs": [],
   "source": [
    "import librosa\n",
    "import librosa.display\n",
    "import matplotlib\n",
    "import matplotlib.pyplot as plt\n",
    "import os"
   ]
  },
  {
   "cell_type": "code",
   "execution_count": null,
   "metadata": {},
   "outputs": [],
   "source": [
    "import matplotlib.pyplot as plt\n",
    "\n",
    "def create_and_save_spectogram(file_path, save_path, display_plots):\n",
    "    x, sr, Xdb = calculate_spectogram_data(file_path)\n",
    "    create_spectogram_plot_and_save(Xdb, sr, save_path)\n",
    "    if display_plots:\n",
    "        display_diagrams(x, sr, Xdb)\n",
    "\n",
    "\n",
    "def calculate_spectogram_data(file_path):\n",
    "    x, sr = librosa.load(file_path, sr=44100)\n",
    "    X = librosa.stft(x)\n",
    "    Xdb = librosa.amplitude_to_db(abs(X))\n",
    "    return x, sr, Xdb\n",
    "\n",
    "\n",
    "def create_spectogram_plot_and_save(Xdb, sr, save_path):\n",
    "    figure = plt.figure(frameon=False)\n",
    "    ax = plt.Axes(figure, [0., 0., 1., 1.])\n",
    "    ax.set_axis_off()\n",
    "    figure.add_axes(ax)\n",
    "    librosa.display.specshow(Xdb, sr=sr, x_axis='time', y_axis='log')\n",
    "    if not os.path.exists(os.path.dirname(save_path)):\n",
    "        os.makedirs(os.path.dirname(save_path))\n",
    "    plt.savefig(save_path)\n",
    "    plt.close(figure)\n",
    "\n",
    "\n",
    "def display_diagrams(x, sr, Xdb):\n",
    "    #display_waveform(x, sr)\n",
    "    display_spectogram(Xdb, sr)\n",
    "\n",
    "\n",
    "def display_waveform(x, sr):\n",
    "    plt.figure(figsize=(14, 5))\n",
    "    librosa.display.waveshow(x, sr=sr)\n",
    "\n",
    "\n",
    "def display_spectogram(Xdb, sr):\n",
    "    plt.figure(figsize=(14, 5))\n",
    "    librosa.display.specshow(Xdb, sr=sr, x_axis='time', y_axis='log')\n",
    "    plt.colorbar()\n",
    "\n",
    "\n",
    "audio_files_root_dir = 'Data/genres_original/'\n",
    "display_plots = True\n",
    "\n",
    "for subdir, dirs, files in os.walk(audio_files_root_dir):\n",
    "    for file in files:\n",
    "        file_info = file.split('.')\n",
    "        create_and_save_spectogram(os.path.join(subdir, file), f'Data/spectrograms/{file_info[0]}/{file_info[0]}.{file_info[1]}.png', display_plots)\n",
    "        display_plots = False"
   ]
  }
 ],
 "metadata": {
  "kernelspec": {
   "display_name": "Python 3",
   "language": "python",
   "name": "python3"
  },
  "language_info": {
   "codemirror_mode": {
    "name": "ipython",
    "version": 3
   },
   "file_extension": ".py",
   "mimetype": "text/x-python",
   "name": "python",
   "nbconvert_exporter": "python",
   "pygments_lexer": "ipython3",
   "version": "3.10.2"
  },
  "orig_nbformat": 4
 },
 "nbformat": 4,
 "nbformat_minor": 2
}
